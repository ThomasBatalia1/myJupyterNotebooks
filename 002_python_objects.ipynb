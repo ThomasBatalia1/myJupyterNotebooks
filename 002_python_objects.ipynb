{
 "cells": [
  {
   "cell_type": "markdown",
   "id": "430fe151",
   "metadata": {},
   "source": [
    "# Classes and Objects in Python"
   ]
  },
  {
   "cell_type": "markdown",
   "id": "a44bb728",
   "metadata": {},
   "source": [
    "In Python, everything is an object"
   ]
  },
  {
   "cell_type": "markdown",
   "id": "52ba604a",
   "metadata": {},
   "source": [
    "Types:\n",
    "\n",
    "- int\n",
    "- float\n",
    "- string\n",
    "- list\n",
    "- dict\n",
    "- bool"
   ]
  },
  {
   "cell_type": "code",
   "execution_count": 1,
   "id": "15514670",
   "metadata": {},
   "outputs": [
    {
     "name": "stdout",
     "output_type": "stream",
     "text": [
      "<class 'int'>\n"
     ]
    }
   ],
   "source": [
    "a = 5\n",
    "print(type(a))"
   ]
  },
  {
   "cell_type": "markdown",
   "id": "a250d878",
   "metadata": {},
   "source": [
    "# Create your own class"
   ]
  },
  {
   "cell_type": "code",
   "execution_count": 2,
   "id": "10272684",
   "metadata": {},
   "outputs": [],
   "source": [
    "class My_fist_class:\n",
    "    i = 5\n",
    "    def f(x):\n",
    "        return x**2"
   ]
  },
  {
   "cell_type": "code",
   "execution_count": 3,
   "id": "a577e74c",
   "metadata": {},
   "outputs": [],
   "source": [
    "my_object = My_fist_class"
   ]
  },
  {
   "cell_type": "code",
   "execution_count": 4,
   "id": "789de332",
   "metadata": {},
   "outputs": [
    {
     "data": {
      "text/plain": [
       "5"
      ]
     },
     "execution_count": 4,
     "metadata": {},
     "output_type": "execute_result"
    }
   ],
   "source": [
    "my_object.i"
   ]
  },
  {
   "cell_type": "code",
   "execution_count": 5,
   "id": "fbaae376",
   "metadata": {},
   "outputs": [
    {
     "data": {
      "text/plain": [
       "9"
      ]
     },
     "execution_count": 5,
     "metadata": {},
     "output_type": "execute_result"
    }
   ],
   "source": [
    "my_object.f(3)"
   ]
  },
  {
   "cell_type": "code",
   "execution_count": 8,
   "id": "8ffa707a",
   "metadata": {},
   "outputs": [],
   "source": [
    "class My_first_class:\n",
    "    i = 5\n",
    "    def f(x):\n",
    "        return x**2\n",
    "    def __init__(self,ivalue):\n",
    "        self.i = ivalue"
   ]
  },
  {
   "cell_type": "code",
   "execution_count": 9,
   "id": "d1172ba3",
   "metadata": {},
   "outputs": [],
   "source": [
    "x = My_first_class(800)"
   ]
  },
  {
   "cell_type": "code",
   "execution_count": 10,
   "id": "f6679497",
   "metadata": {},
   "outputs": [
    {
     "data": {
      "text/plain": [
       "800"
      ]
     },
     "execution_count": 10,
     "metadata": {},
     "output_type": "execute_result"
    }
   ],
   "source": [
    "x.i"
   ]
  },
  {
   "cell_type": "code",
   "execution_count": null,
   "id": "5f38055d",
   "metadata": {},
   "outputs": [],
   "source": []
  },
  {
   "cell_type": "code",
   "execution_count": null,
   "id": "f6d3bfb7",
   "metadata": {},
   "outputs": [],
   "source": []
  }
 ],
 "metadata": {
  "kernelspec": {
   "display_name": "Python 3",
   "language": "python",
   "name": "python3"
  },
  "language_info": {
   "codemirror_mode": {
    "name": "ipython",
    "version": 3
   },
   "file_extension": ".py",
   "mimetype": "text/x-python",
   "name": "python",
   "nbconvert_exporter": "python",
   "pygments_lexer": "ipython3",
   "version": "3.8.8"
  }
 },
 "nbformat": 4,
 "nbformat_minor": 5
}
