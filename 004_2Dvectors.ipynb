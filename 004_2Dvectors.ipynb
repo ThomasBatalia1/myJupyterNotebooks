{
 "cells": [
  {
   "cell_type": "code",
   "execution_count": 17,
   "id": "c7abee63",
   "metadata": {},
   "outputs": [
    {
     "name": "stdout",
     "output_type": "stream",
     "text": [
      "C =  [ 7 -7]\n"
     ]
    }
   ],
   "source": [
    "import numpy as np\n",
    "import math\n",
    "\n",
    "#find C\n",
    "A = np.asarray([4,-2]) \n",
    "B = np.asarray([-3,5])\n",
    "\n",
    "print(\"C = \",(A-B)) #prints difference"
   ]
  },
  {
   "cell_type": "code",
   "execution_count": 6,
   "id": "2ecfc907",
   "metadata": {},
   "outputs": [
    {
     "name": "stdout",
     "output_type": "stream",
     "text": [
      "Length of vector C: 9.899494936611665\n"
     ]
    }
   ],
   "source": [
    "#find the length of C\n",
    "C = A - B\n",
    "print(\"Length of vector C:\",np.linalg.norm(C)) #uses norm to find length of C\n"
   ]
  },
  {
   "cell_type": "code",
   "execution_count": 7,
   "id": "5f27d429",
   "metadata": {},
   "outputs": [
    {
     "name": "stdout",
     "output_type": "stream",
     "text": [
      "Norm of vector A: 4.47213595499958\n"
     ]
    }
   ],
   "source": [
    "#find the norm of A\n",
    "print(\"Norm of vector A:\",np.linalg.norm(A))  #uses norm to find length of A"
   ]
  },
  {
   "cell_type": "code",
   "execution_count": 8,
   "id": "a4971486",
   "metadata": {},
   "outputs": [
    {
     "name": "stdout",
     "output_type": "stream",
     "text": [
      "Norm of vector B: 5.830951894845301\n"
     ]
    }
   ],
   "source": [
    "#find the norm of B\n",
    "print(\"Norm of vector B:\",np.linalg.norm(B))  #uses norm to find length of B"
   ]
  },
  {
   "cell_type": "code",
   "execution_count": 9,
   "id": "6e5befb7",
   "metadata": {},
   "outputs": [
    {
     "name": "stdout",
     "output_type": "stream",
     "text": [
      "Metric of vector A and B: 9.899494936611665\n"
     ]
    }
   ],
   "source": [
    "#find the Metric\n",
    "print(\"Metric of vector A and B:\",np.linalg.norm(A-B))  #uses norm to find length of A-B"
   ]
  },
  {
   "cell_type": "code",
   "execution_count": 11,
   "id": "41b6fd92",
   "metadata": {},
   "outputs": [
    {
     "name": "stdout",
     "output_type": "stream",
     "text": [
      "Dot product of vector A and B: -22\n"
     ]
    }
   ],
   "source": [
    "#find the Dot product of A and B\n",
    "print(\"Dot product of vector A and B:\",np.dot(A,B)) #uses dot product"
   ]
  },
  {
   "cell_type": "code",
   "execution_count": 13,
   "id": "b5a036ca",
   "metadata": {},
   "outputs": [
    {
     "name": "stdout",
     "output_type": "stream",
     "text": [
      "Cosine of angle between vector A and B: -0.8436614877321075\n"
     ]
    }
   ],
   "source": [
    "#find cosine of angle between A and B\n",
    "cos = (np.dot(A,B))/(np.linalg.norm(A)*np.linalg.norm(B)) #applies formula discussion in online module to fine cos(theta)\n",
    "print(\"Cosine of angle between vector A and B:\",cos)"
   ]
  },
  {
   "cell_type": "code",
   "execution_count": 19,
   "id": "275eaf3d",
   "metadata": {},
   "outputs": [
    {
     "name": "stdout",
     "output_type": "stream",
     "text": [
      "Angle between vector A and B: 2.5748634360662868 Radians 147.52880770915152 Degrees\n"
     ]
    }
   ],
   "source": [
    "#find the angle between A and B\n",
    "print(\"Angle between vector A and B:\",np.arccos(cos),\"Radians\",np.arccos(cos)*180/math.pi, \"Degrees\") #finds the angle, converts to degrees"
   ]
  },
  {
   "cell_type": "code",
   "execution_count": null,
   "id": "264489bf",
   "metadata": {},
   "outputs": [],
   "source": []
  }
 ],
 "metadata": {
  "kernelspec": {
   "display_name": "Python 3",
   "language": "python",
   "name": "python3"
  },
  "language_info": {
   "codemirror_mode": {
    "name": "ipython",
    "version": 3
   },
   "file_extension": ".py",
   "mimetype": "text/x-python",
   "name": "python",
   "nbconvert_exporter": "python",
   "pygments_lexer": "ipython3",
   "version": "3.8.8"
  }
 },
 "nbformat": 4,
 "nbformat_minor": 5
}
