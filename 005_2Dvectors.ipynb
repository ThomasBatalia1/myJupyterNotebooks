{
 "cells": [
  {
   "cell_type": "code",
   "execution_count": 1,
   "id": "c7abee63",
   "metadata": {},
   "outputs": [
    {
     "name": "stdout",
     "output_type": "stream",
     "text": [
      "C =  [  -2.16  -27.     19.     46.5  -108.  ]\n"
     ]
    }
   ],
   "source": [
    "import numpy as np\n",
    "import math\n",
    "\n",
    "#find C\n",
    "A = np.asarray([1,-2,16,40,0])\n",
    "B = np.asarray([3.16,25,-3,-6.5,108])\n",
    "\n",
    "print(\"C = \",(A-B))"
   ]
  },
  {
   "cell_type": "code",
   "execution_count": 2,
   "id": "2ecfc907",
   "metadata": {},
   "outputs": [
    {
     "name": "stdout",
     "output_type": "stream",
     "text": [
      "Length of vector C: 122.1511997485084\n"
     ]
    }
   ],
   "source": [
    "#find the length of C\n",
    "C = A - B\n",
    "print(\"Length of vector C:\",np.linalg.norm(C))\n"
   ]
  },
  {
   "cell_type": "code",
   "execution_count": 3,
   "id": "5f27d429",
   "metadata": {},
   "outputs": [
    {
     "name": "stdout",
     "output_type": "stream",
     "text": [
      "Norm of vector A: 43.139309220245984\n"
     ]
    }
   ],
   "source": [
    "#find the norm of A\n",
    "print(\"Norm of vector A:\",np.linalg.norm(A))"
   ]
  },
  {
   "cell_type": "code",
   "execution_count": 4,
   "id": "a4971486",
   "metadata": {},
   "outputs": [
    {
     "name": "stdout",
     "output_type": "stream",
     "text": [
      "Norm of vector B: 111.13161386392262\n"
     ]
    }
   ],
   "source": [
    "#find the norm of B\n",
    "print(\"Norm of vector B:\",np.linalg.norm(B))"
   ]
  },
  {
   "cell_type": "code",
   "execution_count": 5,
   "id": "6e5befb7",
   "metadata": {},
   "outputs": [
    {
     "name": "stdout",
     "output_type": "stream",
     "text": [
      "Metric of vector A and B: 122.1511997485084\n"
     ]
    }
   ],
   "source": [
    "#find the Metric\n",
    "print(\"Metric of vector A and B:\",np.linalg.norm(A-B))"
   ]
  },
  {
   "cell_type": "code",
   "execution_count": 6,
   "id": "41b6fd92",
   "metadata": {},
   "outputs": [
    {
     "name": "stdout",
     "output_type": "stream",
     "text": [
      "Dot product of vector A and B: -354.84000000000003\n"
     ]
    }
   ],
   "source": [
    "#find the Dot product of A and B\n",
    "print(\"Dot product of vector A and B:\",np.dot(A,B))"
   ]
  },
  {
   "cell_type": "code",
   "execution_count": 7,
   "id": "b5a036ca",
   "metadata": {},
   "outputs": [
    {
     "name": "stdout",
     "output_type": "stream",
     "text": [
      "Cosine of angle between vector A and B: -0.07401534413719323\n"
     ]
    }
   ],
   "source": [
    "#find cosine of angle between A and B\n",
    "cos = (np.dot(A,B))/(np.linalg.norm(A)*np.linalg.norm(B))\n",
    "print(\"Cosine of angle between vector A and B:\",cos)"
   ]
  },
  {
   "cell_type": "code",
   "execution_count": 8,
   "id": "275eaf3d",
   "metadata": {},
   "outputs": [
    {
     "name": "stdout",
     "output_type": "stream",
     "text": [
      "Angle between vector A and B: 1.6448794174297847 Radians 94.24464842666424 Degrees\n"
     ]
    }
   ],
   "source": [
    "#find the angle between A and B\n",
    "print(\"Angle between vector A and B:\",np.arccos(cos),\"Radians\",np.arccos(cos)*180/math.pi, \"Degrees\")"
   ]
  },
  {
   "cell_type": "code",
   "execution_count": null,
   "id": "264489bf",
   "metadata": {},
   "outputs": [],
   "source": []
  },
  {
   "cell_type": "code",
   "execution_count": null,
   "id": "76c4c7cd",
   "metadata": {},
   "outputs": [],
   "source": []
  }
 ],
 "metadata": {
  "kernelspec": {
   "display_name": "Python 3",
   "language": "python",
   "name": "python3"
  },
  "language_info": {
   "codemirror_mode": {
    "name": "ipython",
    "version": 3
   },
   "file_extension": ".py",
   "mimetype": "text/x-python",
   "name": "python",
   "nbconvert_exporter": "python",
   "pygments_lexer": "ipython3",
   "version": "3.8.8"
  }
 },
 "nbformat": 4,
 "nbformat_minor": 5
}
